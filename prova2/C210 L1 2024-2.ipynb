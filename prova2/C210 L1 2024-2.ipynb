{
 "cells": [
  {
   "cell_type": "markdown",
   "metadata": {},
   "source": [
    "## Prova 2 - C210 - L1\n",
    "-------------------------------------------------------------------------------------------------------------------------------------------------------------\n",
    "#### Nome: Lucas Teles        \n",
    "#### Matrícula: 94"
   ]
  },
  {
   "cell_type": "code",
   "execution_count": null,
   "metadata": {},
   "outputs": [],
   "source": []
  },
  {
   "cell_type": "markdown",
   "metadata": {},
   "source": [
    "-------------------------------------------------------------------------------------------------------------------------------------------------------------"
   ]
  },
  {
   "cell_type": "markdown",
   "metadata": {},
   "source": [
    "## Instruções:\n",
    "- A prova deve ser resolvida em 1h30min.\n",
    "- A prova é Individual.\n",
    "- Resolver as questões e enviar as respostas através desse Jupyter Notebook.\n",
    "- Interpretação faz parte da prova.\n",
    "- Não será permitida qualquer tipo de consulta, exceto à folha de resumo escrita e individual.\n",
    "\n",
    "Boa Prova."
   ]
  },
  {
   "cell_type": "markdown",
   "metadata": {},
   "source": [
    "# (45 Pontos) **`Questão 1`**\n",
    "\n",
    "Uma possível aplicação para sistemas fuzzy é a realização de controles para\n",
    "diversos sistemas, como por exemplo controle de temperatura. \n",
    "\n",
    "Implemente o seguinte sistema fuzzy utilizando as informações abaixo.\n",
    "\n",
    "A) (**20 Pontos**) Gráficos para as funções de pertinências de todas as variáveis.\n",
    "\n",
    "B) (**25 Pontos**) Valores de saída do sistema fuzzy para os seguintes pares de entrada:\n",
    "- temperatura: 25; humidade: 35;\n",
    "- temperatura: 28; humidade: 18;\n",
    "- temperatura: 33; humidade: 40;\n",
    "- temperatura: 12; humidade: 65;"
   ]
  },
  {
   "cell_type": "markdown",
   "metadata": {},
   "source": [
    "<!DOCTYPE html>\n",
    "<html lang=\"en\">\n",
    "<head>\n",
    "    <meta charset=\"UTF-8\">\n",
    "    <meta name=\"viewport\" content=\"width=device-width, initial-scale=1.0\">\n",
    "    <title>Tabelas de Variáveis</title>\n",
    "    <style>\n",
    "        table {\n",
    "            width: 50%;\n",
    "            border-collapse: collapse;\n",
    "            margin: 20px 0;\n",
    "        }\n",
    "        th, td {\n",
    "            border: 1px solid black;\n",
    "            padding: 10px;\n",
    "            text-align: center;\n",
    "        }\n",
    "        th {\n",
    "            background-color: #f2f2f2;\n",
    "        }\n",
    "    </style>\n",
    "</head>\n",
    "<body>\n",
    "\n",
    "<h2>Variáveis de Entrada</h2>\n",
    "<table>\n",
    "    <thead>\n",
    "        <tr>\n",
    "            <th>Variável de Entrada</th>\n",
    "            <th>Valor mínimo (inclusive)</th>\n",
    "            <th>Valor máximo (inclusive)</th>\n",
    "        </tr>\n",
    "    </thead>\n",
    "    <tbody>\n",
    "        <tr>\n",
    "            <td>Temperatura</td>\n",
    "            <td>0</td>\n",
    "            <td>42</td>\n",
    "        </tr>\n",
    "        <tr>\n",
    "            <td>Humidade</td>\n",
    "            <td>0</td>\n",
    "            <td>100</td>\n",
    "        </tr>\n",
    "    </tbody>\n",
    "</table>\n",
    "\n",
    "<h2>Variáveis de Saída</h2>\n",
    "<table>\n",
    "    <thead>\n",
    "        <tr>\n",
    "            <th>Variável de Saída</th>\n",
    "            <th>Valor mínimo (inclusive)</th>\n",
    "            <th>Valor máximo (inclusive)</th>\n",
    "        </tr>\n",
    "    </thead>\n",
    "    <tbody>\n",
    "        <tr>\n",
    "            <td>Temperatura ar condicionado</td>\n",
    "            <td>0</td>\n",
    "            <td>100</td>\n",
    "        </tr>\n",
    "    </tbody>\n",
    "</table>\n",
    "\n",
    "</body>\n",
    "</html>\n"
   ]
  },
  {
   "cell_type": "code",
   "execution_count": 64,
   "metadata": {},
   "outputs": [
    {
     "name": "stdout",
     "output_type": "stream",
     "text": [
      "Requirement already satisfied: scikit-fuzzy in /Users/lucas/.local/share/virtualenvs/C210-02heVGrD/lib/python3.11/site-packages (0.5.0)\n",
      "\n",
      "\u001b[1m[\u001b[0m\u001b[34;49mnotice\u001b[0m\u001b[1;39;49m]\u001b[0m\u001b[39;49m A new release of pip is available: \u001b[0m\u001b[31;49m24.1.2\u001b[0m\u001b[39;49m -> \u001b[0m\u001b[32;49m24.3.1\u001b[0m\n",
      "\u001b[1m[\u001b[0m\u001b[34;49mnotice\u001b[0m\u001b[1;39;49m]\u001b[0m\u001b[39;49m To update, run: \u001b[0m\u001b[32;49mpip install --upgrade pip\u001b[0m\n"
     ]
    }
   ],
   "source": [
    "!pip install scikit-fuzzy\n"
   ]
  },
  {
   "cell_type": "code",
   "execution_count": 65,
   "metadata": {},
   "outputs": [],
   "source": [
    "import numpy as np\n",
    "import skfuzzy as fuzzy\n",
    "import skfuzzy.control as ctrl"
   ]
  },
  {
   "cell_type": "code",
   "execution_count": 66,
   "metadata": {},
   "outputs": [],
   "source": [
    "# Definindo universo de discurso e nome da variável\n",
    "temperatura = ctrl.Antecedent(np.arange(0, 42, 1), 'temperatura')\n",
    "humidade = ctrl.Antecedent(np.arange(0, 100, 1), 'humidade')\n",
    "\n",
    "# Criando função de pertinência usando automf\n",
    "temperatura.automf(names=['baixa', 'media', 'alta'])\n",
    "humidade.automf(names=['baixa', 'media', 'alta'])\n",
    "\n",
    "# Mostre o Gráfico:"
   ]
  },
  {
   "cell_type": "code",
   "execution_count": 67,
   "metadata": {},
   "outputs": [],
   "source": [
    "temperatura_ar_condicionado = ctrl.Consequent(np.arange(15, 35, 1), 'temperatura_ar_condicionado')\n",
    "\n",
    "# Criando função de pertinência usando automf\n",
    "temperatura_ar_condicionado.automf(names=['baixa', 'media', 'alta'])\n",
    "\n",
    "# Mostre o Gráfico:"
   ]
  },
  {
   "cell_type": "markdown",
   "metadata": {},
   "source": [
    "Utilize a seguinte matriz de regras abaixo,\n",
    "considerando sempre o conectivo **E**:"
   ]
  },
  {
   "cell_type": "markdown",
   "metadata": {},
   "source": [
    "<!DOCTYPE html>\n",
    "<html lang=\"en\">\n",
    "<head>\n",
    "    <meta charset=\"UTF-8\">\n",
    "    <meta name=\"viewport\" content=\"width=device-width, initial-scale=1.0\">\n",
    "    <title>Data Table</title>\n",
    "    <style>\n",
    "        table {\n",
    "            width: 50%;\n",
    "            border-collapse: collapse;\n",
    "            margin: 25px 0;\n",
    "            font-size: 18px;\n",
    "            text-align: left;\n",
    "        }\n",
    "        th, td {\n",
    "            padding: 12px;\n",
    "            border: 1px solid #ddd;\n",
    "        }\n",
    "        th {\n",
    "            background-color: #f2f2f2;\n",
    "        }\n",
    "        td:first-child, th:first-child {\n",
    "            background-color: #f2f2f2;\n",
    "            font-weight: bold;\n",
    "        }\n",
    "    </style>\n",
    "</head>\n",
    "<body>\n",
    "    <table>\n",
    "        <thead>\n",
    "            <tr>\n",
    "                <th></th>\n",
    "                <th>Baixa</th>\n",
    "                <th>Média</th>\n",
    "                <th>Alta</th>\n",
    "                <th>Temperatura</th>\n",
    "            </tr>\n",
    "        </thead>\n",
    "        <tbody>\n",
    "            <tr>\n",
    "                <td>Baixa</td>\n",
    "                <td>Alta</td>\n",
    "                <td>Média</td>\n",
    "                <td>Baixa</td>\n",
    "            </tr>\n",
    "            <tr>\n",
    "                <td>Média</td>\n",
    "                <td>Alta</td>\n",
    "                <td>Média</td>\n",
    "                <td>Baixa</td>\n",
    "            </tr>\n",
    "            <tr>\n",
    "                <td>Alta</td>\n",
    "                <td>Média</td>\n",
    "                <td>Baixa</td>\n",
    "                <td>Baixa</td>\n",
    "            </tr>\n",
    "            <tr>\n",
    "                <td>Umidade</td>\n",
    "            </tr>\n",
    "        </tbody>\n",
    "    </table>\n",
    "</body>\n",
    "</html>\n"
   ]
  },
  {
   "cell_type": "markdown",
   "metadata": {},
   "source": []
  },
  {
   "cell_type": "code",
   "execution_count": 68,
   "metadata": {},
   "outputs": [],
   "source": [
    "# Regras fuzzy\n",
    "regra1 = ctrl.Rule(temperatura['baixa'] & humidade['baixa'], temperatura_ar_condicionado['alta'])\n",
    "regra2 = ctrl.Rule(temperatura['baixa'] & humidade['media'], temperatura_ar_condicionado['alta'])\n",
    "regra3 = ctrl.Rule(temperatura['baixa'] & humidade['alta'], temperatura_ar_condicionado['media'])\n",
    "\n",
    "regra4 = ctrl.Rule(temperatura['media'] & humidade['baixa'], temperatura_ar_condicionado['media'])\n",
    "regra5 = ctrl.Rule(temperatura['media'] & humidade['media'], temperatura_ar_condicionado['media'])\n",
    "regra6 = ctrl.Rule(temperatura['media'] & humidade['alta'], temperatura_ar_condicionado['baixa'])\n",
    "\n",
    "regra7 = ctrl.Rule(temperatura['alta'] & humidade['baixa'], temperatura_ar_condicionado['baixa'])\n",
    "regra8 = ctrl.Rule(temperatura['alta'] & humidade['media'], temperatura_ar_condicionado['baixa'])\n",
    "regra9 = ctrl.Rule(temperatura['alta'] & humidade['alta'], temperatura_ar_condicionado['baixa'])"
   ]
  },
  {
   "cell_type": "code",
   "execution_count": 69,
   "metadata": {},
   "outputs": [],
   "source": [
    "# Controle fuzzy\n",
    "sistema_controle = ctrl.ControlSystem([regra1, regra2, regra3, regra4, regra5, regra6, regra7, regra8, regra9])\n",
    "simulador = ctrl.ControlSystemSimulation(sistema_controle)"
   ]
  },
  {
   "cell_type": "code",
   "execution_count": 70,
   "metadata": {},
   "outputs": [],
   "source": [
    "# Definição dos valores de entrada\n",
    "simulador.input['temperatura'] = 25\n",
    "simulador.input['humidade'] = 35\n",
    "\n"
   ]
  },
  {
   "cell_type": "code",
   "execution_count": 71,
   "metadata": {},
   "outputs": [],
   "source": [
    "# Computar o resultado\n",
    "simulador.compute()"
   ]
  },
  {
   "cell_type": "code",
   "execution_count": 72,
   "metadata": {},
   "outputs": [
    {
     "name": "stdout",
     "output_type": "stream",
     "text": [
      "Temperatura do ar condicionado: 24.270727747322102\n",
      "Demais entradas\n",
      "Temperatura do ar condicionado: 23.89371273588483\n",
      "Temperatura do ar condicionado: 22.769149374251462\n",
      "Temperatura do ar condicionado: 24.798440956857377\n"
     ]
    }
   ],
   "source": [
    "# Mostrar o resultado\n",
    "print(\n",
    "    f\"Temperatura do ar condicionado: {simulador.output['temperatura_ar_condicionado']}\"\n",
    ")\n",
    "\n",
    "\n",
    "print(\"Demais entradas\")\n",
    "\n",
    "simulador.input['temperatura'] = 28\n",
    "simulador.input['humidade'] = 18\n",
    "simulador.compute()\n",
    "print(f\"Temperatura do ar condicionado: {simulador.output['temperatura_ar_condicionado']}\")\n",
    "\n",
    "simulador.input['temperatura'] = 33\n",
    "simulador.input['humidade'] = 40\n",
    "simulador.compute()\n",
    "print(f\"Temperatura do ar condicionado: {simulador.output['temperatura_ar_condicionado']}\")\n",
    "\n",
    "\n",
    "simulador.input['temperatura'] = 12\n",
    "simulador.input['humidade'] = 65\n",
    "simulador.compute()\n",
    "print(f\"Temperatura do ar condicionado: {simulador.output['temperatura_ar_condicionado']}\")"
   ]
  },
  {
   "cell_type": "markdown",
   "metadata": {},
   "source": [
    "# (25 Pontos) **`Questão 2`**\n",
    "\n",
    "Faça a classificação das espécies de plantas utilizando a rede perceptron.\n",
    "\n",
    "A) Dividir os dados em conjuntos de treino (80%) e teste (20%)\n",
    "\n",
    "B) Treinar e testar o Perceptron\n",
    "\n",
    "C) Testar o Perceptron com dados de teste\n",
    "\n",
    "D) Mostrar os resultados\n",
    "\n",
    "E) Calcular e mostrar a acurácia\n"
   ]
  },
  {
   "cell_type": "code",
   "execution_count": 73,
   "metadata": {},
   "outputs": [],
   "source": [
    "data = \"\"\"\n",
    "sepal_largura,sepal_comprimento,tipo\n",
    "5.1,3.5,\"virginica\"\n",
    "4.7,3.2,\"virginica\"\n",
    "5,3.6,\"virginica\"\n",
    "4.6,3.4,\"virginica\"\n",
    "4.4,2.9,\"virginica\"\n",
    "5.4,3.7,\"virginica\"\n",
    "4.8,3,\"virginica\"\n",
    "5.8,4,\"virginica\"\n",
    "5.4,3.9,\"virginica\"\n",
    "5.7,3.8,\"virginica\"\n",
    "5.4,3.4,\"virginica\"\n",
    "4.6,3.6,\"virginica\"\n",
    "4.8,3.4,\"virginica\"\n",
    "5,3.4,\"virginica\"\n",
    "5.2,3.4,\"virginica\"\n",
    "4.8,3.1,\"virginica\"\n",
    "5.2,4.1,\"virginica\"\n",
    "4.9,3.1,\"virginica\"\n",
    "5.5,3.5,\"virginica\"\n",
    "4.4,3,\"virginica\"\n",
    "5,3.5,\"virginica\"\n",
    "4.4,3.2,\"virginica\"\n",
    "5.1,3.8,\"virginica\"\n",
    "5.1,3.8,\"virginica\"\n",
    "5.3,3.7,\"virginica\"\n",
    "5.8,2.7,\"setosa\"\n",
    "6.3,2.9,\"setosa\"\n",
    "7.6,3,\"setosa\"\n",
    "7.3,2.9,\"setosa\"\n",
    "7.2,3.6,\"setosa\"\n",
    "6.4,2.7,\"setosa\"\n",
    "5.7,2.5,\"setosa\"\n",
    "6.4,3.2,\"setosa\"\n",
    "7.7,3.8,\"setosa\"\n",
    "6,2.2,\"setosa\"\n",
    "5.6,2.8,\"setosa\"\n",
    "6.3,2.7,\"setosa\"\n",
    "7.2,3.2,\"setosa\"\n",
    "6.1,3,\"setosa\"\n",
    "7.2,3,\"setosa\"\n",
    "7.9,3.8,\"setosa\"\n",
    "6.3,2.8,\"setosa\"\n",
    "7.7,3,\"setosa\"\n",
    "6.4,3.1,\"setosa\"\n",
    "6.9,3.1,\"setosa\"\n",
    "6.9,3.1,\"setosa\"\n",
    "6.8,3.2,\"setosa\"\n",
    "6.7,3,\"setosa\"\n",
    "6.5,3,\"setosa\"\n",
    "5.9,3,\"setosa\"\n",
    "\"\"\""
   ]
  },
  {
   "cell_type": "code",
   "execution_count": 74,
   "metadata": {},
   "outputs": [],
   "source": [
    "class Perceptron:\n",
    "    \n",
    "    def __init__(self, lr, n_epochs):\n",
    "        self.lr = lr\n",
    "        self.n_epochs = n_epochs\n",
    "        \n",
    "    def activation(self, value):\n",
    "        return (1 if value > 0 else -1 if value < 0 else 0)\n",
    "        \n",
    "    def predict(self, x):\n",
    "        return np.dot(x, self.weights.T) + self.bias * self.w_bias\n",
    "    \n",
    "    def evaluate(self, target, predicted):\n",
    "        return (target - predicted)\n",
    "    \n",
    "    def train(self, x, d):\n",
    "        self.weights = np.random.random(x.shape[1])\n",
    "        self.bias = np.random.random()\n",
    "        self.w_bias = np.random.random()\n",
    "        \n",
    "        epoch = 0\n",
    "        is_error = True\n",
    "        self.total_error = []\n",
    "        \n",
    "        while is_error and epoch < self.n_epochs:\n",
    "            is_error  = False\n",
    "            epoch_errors = 0\n",
    "            \n",
    "            for xi, target in zip(x, d):\n",
    "                predicted = self.predict(xi)\n",
    "                predicted = self.activation(predicted)\n",
    "                \n",
    "                current_error = self.evaluate(target, predicted)\n",
    "                epoch_errors += abs(current_error)\n",
    "                \n",
    "                if predicted != target:\n",
    "                    self.weights += self.lr * current_error * xi\n",
    "                    self.w_bias += self.lr * current_error * self.bias\n",
    "                    is_error = True\n",
    "                    \n",
    "            self.total_error.append(epoch_errors / len(x))\n",
    "            epoch += 1\n",
    "    \n",
    "    def accuracy(self, x, d):\n",
    "        correct_predictions = 0\n",
    "        total_predictions = len(d)\n",
    "        \n",
    "        for xi, target in zip(x, d):\n",
    "            predicted = self.predict(xi)\n",
    "            predicted = self.activation(predicted)\n",
    "            if predicted == target:\n",
    "                correct_predictions += 1\n",
    "                \n",
    "        return correct_predictions / total_predictions\n",
    "    \n",
    "    def test(self, x):\n",
    "        results = []\n",
    "        for xi in x:\n",
    "            predict = self.predict(xi)\n",
    "            predict = self.activation(predict)\n",
    "            results.append(predict)\n",
    "            \n",
    "        return results"
   ]
  },
  {
   "cell_type": "code",
   "execution_count": 75,
   "metadata": {},
   "outputs": [
    {
     "name": "stdout",
     "output_type": "stream",
     "text": [
      "[1, -1, -1, -1, 1, -1, -1, -1, -1, 1]\n",
      "1.0\n"
     ]
    }
   ],
   "source": [
    "import numpy as np\n",
    "import pandas as pd\n",
    "from sklearn.model_selection import train_test_split\n",
    "\n",
    "# Convert the data string to a pandas DataFrame\n",
    "from io import StringIO\n",
    "df = pd.read_csv(StringIO(data))\n",
    "\n",
    "# 2. Pré-processamento dos dados\n",
    "# Converter as classes para valores numéricos\n",
    "df['tipo'] = df['tipo'].apply(lambda x: 1 if x == 'virginica' else -1)\n",
    "\n",
    "# Dividir as features e os rótulos\n",
    "X = df[['sepal_largura', 'sepal_comprimento']].values\n",
    "y = df['tipo'].values\n",
    "\n",
    "# Dividir os dados em conjuntos de treino e teste\n",
    "X_train, X_test, y_train, y_test = train_test_split(X, y, test_size=0.2, random_state=42)\n",
    "    \n",
    "# 3. Treinar e testar o Perceptron\n",
    "perceptron = Perceptron(lr=0.01, n_epochs=100)\n",
    "perceptron.train(X_train, y_train)\n",
    "\n",
    "# Testar o Perceptron com dados de teste\n",
    "y_pred = perceptron.test(X_test)\n",
    "\n",
    "# Mostrar os resultados\n",
    "print(y_pred)\n",
    "\n",
    "\n",
    "# Calcular e mostrar a acurácia\n",
    "print(perceptron.accuracy(X_test, y_test))\n",
    "\n"
   ]
  },
  {
   "cell_type": "markdown",
   "metadata": {},
   "source": [
    "# (10 Pontos) **`Questão 3`** Explique com suas palavras o que é um problema `linearmente separável` e de um exemplo."
   ]
  },
  {
   "cell_type": "markdown",
   "metadata": {},
   "source": [
    "**Resposta Q3** : \n",
    "Um problema linearmente separável é um problema onde as classes podem ser separadas por uma linha reta.\n",
    "Por exemplo, quando \"plotamos\" em 2 dimensões (n=2), podemos separar as classes com uma linha reta.\n",
    "O exemplo clássico é a classificação de flores Iris, onde temos 2 classes e conseguimos separar com uma reta.\n",
    "\n"
   ]
  },
  {
   "cell_type": "markdown",
   "metadata": {},
   "source": [
    "# (10 Pontos) **`Questão 4`** \n",
    "# Considere uma rede neural definida como::\n",
    "# mlp = MLP(lr=0.05, e=1000, layers=[4, 8, 1]).\n",
    "# Assinale a alternativa **`correta`**.\n"
   ]
  },
  {
   "cell_type": "markdown",
   "metadata": {},
   "source": [
    "[ ] **A.** A rede neural possui três camadas ocultas.\n",
    "\n",
    "[ ] **B.** O parâmetro lr define a quantidade de épocas de treinamento.\n",
    "\n",
    "[ ] **C.** O parâmetro e representa a taxa de aprendizado da rede neural.\n",
    "\n",
    "[X] **D.** A rede possui uma camada de saída com 1 neurônio.\n",
    "\n",
    "[ ] **E.** A rede neural possui 4 neurônios na camada de entrada e 8 na camada de saída.\n",
    "\n",
    "**Resposta Q4:** letra D\n",
    "---\n",
    "---"
   ]
  },
  {
   "cell_type": "markdown",
   "metadata": {},
   "source": [
    "## (10 Pontos) **`Questão 5`** Em uma rede ADALINE, o modelo de aprendizagem utiliza:\n",
    "\n",
    "[ ] **A.** Função de ativação não linear, como a função sigmoide.\n",
    "\n",
    "[X] **B.** Função de ativação linear para calcular a saída.\n",
    "\n",
    "[] **C.** Apenas a função de perda quadrática para otimização.\n",
    "\n",
    "[ ] **D.** Treinamento baseado em retropropagação como o perceptron multicamadas.\n",
    "\n",
    "\n",
    "**Resposta Q5:** \n",
    "---\n",
    "---"
   ]
  },
  {
   "cell_type": "markdown",
   "metadata": {},
   "source": []
  }
 ],
 "metadata": {
  "kernelspec": {
   "display_name": "C210-02heVGrD",
   "language": "python",
   "name": "python3"
  },
  "language_info": {
   "codemirror_mode": {
    "name": "ipython",
    "version": 3
   },
   "file_extension": ".py",
   "mimetype": "text/x-python",
   "name": "python",
   "nbconvert_exporter": "python",
   "pygments_lexer": "ipython3",
   "version": "3.11.7"
  }
 },
 "nbformat": 4,
 "nbformat_minor": 2
}
