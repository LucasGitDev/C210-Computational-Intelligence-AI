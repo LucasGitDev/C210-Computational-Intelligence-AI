{
 "cells": [
  {
   "cell_type": "markdown",
   "metadata": {},
   "source": [
    "# Algoritmo Perceptron (Lei de aprendizado de Hebb)\n",
    "\n",
    "1 - Obter um conjunto de amostras de treinamento\n",
    "2 - Associar a saída desejada para cada amostra\n",
    "3 - Inicializar os pesos com 0 ou valores aleatórios pequenos\n",
    "4 - Especificar a taxa de aprendizado (eta) e o número máximo de épocas\n",
    "5 - Fluxo\n",
    "\n"
   ]
  },
  {
   "cell_type": "code",
   "execution_count": 2,
   "metadata": {},
   "outputs": [],
   "source": [
    "import numpy as np"
   ]
  },
  {
   "cell_type": "code",
   "execution_count": 3,
   "metadata": {},
   "outputs": [],
   "source": [
    "\n",
    "# Categorização de frutas\n",
    "# 0 -> Maçã\n",
    "# 1 -> Pera\n",
    "# 2 -> Banana\n",
    "\n",
    "# Característica 1\n",
    "# 0 -> Verde\n",
    "# 1 -> Amarelo\n",
    "# 2 -> Vermelho\n",
    "# 3 -> Laranja\n",
    "\n",
    "# Característica 2\n",
    "# 0 -> Pequeno\n",
    "# 1 -> Médio\n",
    "# 2 -> Grande\n",
    "\n",
    "# Característica 3\n",
    "# 0 -> Doce\n",
    "# 1 -> Ácido\n",
    "# 2 -> Amargo\n",
    "\n",
    "\n",
    "amostras = [\n",
    "    np.array([0, 2, 1, 0]), # Maçã Verde Pequeno Doce\n",
    "    np.array([1, 0, 2, 2]), # Pera Amarelo Médio Ácido\n",
    "    np.array([2, 3, 0, 1]), # Banana Vermelho Grande Amargo\n",
    "    np.array([0, 1, 1, 0]), # Maçã Amarelo Médio Doce\n",
    "    np.array([1, 2, 2, 2]), # Pera Vermelho Grande Ácido\n",
    "    np.array([2, 0, 0, 1]), # Banana Verde Pequeno Amargo\n",
    "    np.array([0, 3, 2, 0]), # Maçã Laranja Grande Doce\n",
    "    np.array([1, 1, 1, 1]), # Pera Laranja Médio Doce\n",
    "    np.array([2, 0, 2, 0]), # Banana Verde Médio Amargo\n",
    "    np.array([0, 2, 0, 2]), # Maçã Vermelho Grande Doce\n",
    "]"
   ]
  },
  {
   "cell_type": "code",
   "execution_count": 4,
   "metadata": {},
   "outputs": [],
   "source": [
    "# Saídas desejadas\n",
    "saidas_desejadas = [0, 1, 2, 0, 1, 2, 0, 1, 2, 0]"
   ]
  },
  {
   "cell_type": "code",
   "execution_count": 5,
   "metadata": {},
   "outputs": [],
   "source": [
    "# Vetor w (pesos) com valores aleatórios pequenos\n",
    "w = np.random.rand(len(amostras[0])) * 0.1\n",
    "\n",
    "# Taxa de aprendizado\n",
    "eta = 0.15\n",
    "\n",
    "# Número máximo de épocas\n",
    "max_epocas = 1000\n"
   ]
  },
  {
   "cell_type": "code",
   "execution_count": 6,
   "metadata": {},
   "outputs": [],
   "source": [
    "# unir amostras e saidas desejadas\n",
    "amostras_e_saidas = list(zip(amostras, saidas_desejadas))\n",
    "\n",
    "pares_treinamento = amostras_e_saidas[:7] # 70%\n",
    "pares_teste = amostras_e_saidas[7:] # 30%"
   ]
  },
  {
   "cell_type": "code",
   "execution_count": 7,
   "metadata": {},
   "outputs": [
    {
     "name": "stdout",
     "output_type": "stream",
     "text": [
      "Pesos finais: [ 1.00000000e+00  8.32666993e-25 -1.22974240e-24  3.58690577e-17]\n",
      "Número de épocas: 1001\n"
     ]
    }
   ],
   "source": [
    "\n",
    "epocas = 0\n",
    "\n",
    "\n",
    "while True:\n",
    "    erro = None\n",
    "    \n",
    "    for par in pares_treinamento:\n",
    "        x, y = par\n",
    "        y_calculado = np.dot(w, x)\n",
    "        erro = y - y_calculado\n",
    "        w = w + eta * erro * x\n",
    "\n",
    "    if epocas > max_epocas or erro == None:\n",
    "        break\n",
    "    epocas += 1\n",
    "\n",
    "print(f\"Pesos finais: {w}\")\n",
    "print(f\"Número de épocas: {epocas}\")\n",
    "\n",
    "\n"
   ]
  },
  {
   "cell_type": "code",
   "execution_count": 8,
   "metadata": {},
   "outputs": [
    {
     "name": "stdout",
     "output_type": "stream",
     "text": [
      "Saída calculada: 1.0, Saída desejada: 1\n",
      "Saída calculada: 2.0, Saída desejada: 2\n",
      "Saída calculada: 7.173811714502154e-17, Saída desejada: 0\n"
     ]
    }
   ],
   "source": [
    "# Teste\n",
    "for par in pares_teste:\n",
    "    x, y = par\n",
    "    y_calculado = np.dot(w, x)\n",
    "    print(f\"Saída calculada: {y_calculado}, Saída desejada: {y}\")\n",
    "\n"
   ]
  }
 ],
 "metadata": {
  "kernelspec": {
   "display_name": "C210-02heVGrD",
   "language": "python",
   "name": "python3"
  },
  "language_info": {
   "codemirror_mode": {
    "name": "ipython",
    "version": 3
   },
   "file_extension": ".py",
   "mimetype": "text/x-python",
   "name": "python",
   "nbconvert_exporter": "python",
   "pygments_lexer": "ipython3",
   "version": "3.11.7"
  }
 },
 "nbformat": 4,
 "nbformat_minor": 2
}
