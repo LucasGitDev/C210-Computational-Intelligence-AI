{
 "cells": [
  {
   "cell_type": "code",
   "execution_count": 2,
   "metadata": {},
   "outputs": [],
   "source": [
    "import numpy as np"
   ]
  },
  {
   "cell_type": "code",
   "execution_count": 3,
   "metadata": {},
   "outputs": [],
   "source": [
    "def sigmoid(x):\n",
    "    return 1 / (1 + np.exp(-x))\n",
    "\n",
    "\n",
    "def sigmoid_derivative(x):\n",
    "    return x * (1 - x)"
   ]
  },
  {
   "cell_type": "code",
   "execution_count": 4,
   "metadata": {},
   "outputs": [],
   "source": [
    "# Dados de entrada (4 amostras, 3 features cada)\n",
    "X = np.array([[0, 0, 1], [1, 1, 1], [1, 0, 1], [0, 1, 1]])\n",
    "\n",
    "# Saídas esperadas\n",
    "y = np.array([[0], [1], [1], [0]])"
   ]
  },
  {
   "cell_type": "code",
   "execution_count": 5,
   "metadata": {},
   "outputs": [],
   "source": [
    "np.random.seed(1)  # Para reprodutibilidade\n",
    "\n",
    "# Pesos da camada de entrada para a camada oculta (3 neurônios de entrada, 4 na camada oculta)\n",
    "weights_input_hidden = 2 * np.random.random((3, 4)) - 1\n",
    "\n",
    "# Pesos da camada oculta para a camada de saída (4 neurônios na camada oculta, 1 na saída)\n",
    "weights_hidden_output = 2 * np.random.random((4, 1)) - 1"
   ]
  },
  {
   "cell_type": "code",
   "execution_count": 6,
   "metadata": {},
   "outputs": [
    {
     "name": "stdout",
     "output_type": "stream",
     "text": [
      "Erro após 1000 epochs: 0.08563669069675867\n",
      "Erro após 2000 epochs: 0.05033633689279199\n",
      "Erro após 3000 epochs: 0.03808321429369532\n",
      "Erro após 4000 epochs: 0.03156400028272216\n",
      "Erro após 5000 epochs: 0.027412296275304282\n",
      "Erro após 6000 epochs: 0.024490402777871262\n",
      "Erro após 7000 epochs: 0.022298639961998067\n",
      "Erro após 8000 epochs: 0.02058019964338139\n",
      "Erro após 9000 epochs: 0.01918837081843513\n",
      "Erro após 10000 epochs: 0.01803268709963298\n"
     ]
    }
   ],
   "source": [
    "# Taxa de aprendizado\n",
    "learning_rate = 0.1\n",
    "\n",
    "# Número de iterações de treinamento\n",
    "epochs = 10000\n",
    "\n",
    "for epoch in range(epochs):\n",
    "    # Feedforward\n",
    "    hidden_layer_input = np.dot(X, weights_input_hidden)\n",
    "    hidden_layer_output = sigmoid(hidden_layer_input)\n",
    "\n",
    "    output_layer_input = np.dot(hidden_layer_output, weights_hidden_output)\n",
    "    predicted_output = sigmoid(output_layer_input)\n",
    "\n",
    "    # Calcule o erro\n",
    "    error = y - predicted_output\n",
    "\n",
    "    # Backpropagation\n",
    "    d_predicted_output = error * sigmoid_derivative(predicted_output)\n",
    "\n",
    "    error_hidden_layer = d_predicted_output.dot(weights_hidden_output.T)\n",
    "    d_hidden_layer = error_hidden_layer * sigmoid_derivative(hidden_layer_output)\n",
    "\n",
    "    # Atualização dos pesos\n",
    "    weights_hidden_output += (\n",
    "        hidden_layer_output.T.dot(d_predicted_output) * learning_rate\n",
    "    )\n",
    "    weights_input_hidden += X.T.dot(d_hidden_layer) * learning_rate\n",
    "\n",
    "    # Exibir o erro em intervalos\n",
    "    if (epoch + 1) % 1000 == 0:\n",
    "        print(f\"Erro após {epoch + 1} epochs: {np.mean(np.abs(error))}\")"
   ]
  },
  {
   "cell_type": "code",
   "execution_count": 8,
   "metadata": {},
   "outputs": [
    {
     "name": "stdout",
     "output_type": "stream",
     "text": [
      "Saída prevista após o treinamento:\n",
      "[[0.01860547]\n",
      " [0.97979541]\n",
      " [0.98184187]\n",
      " [0.01516256]]\n",
      "[[0]\n",
      " [1]\n",
      " [1]\n",
      " [0]]\n"
     ]
    }
   ],
   "source": [
    "print(\"Saída prevista após o treinamento:\")\n",
    "print(predicted_output)\n",
    "\n",
    "# comparar resultados com o esperado\n",
    "print(y)\n"
   ]
  }
 ],
 "metadata": {
  "kernelspec": {
   "display_name": "C210-02heVGrD",
   "language": "python",
   "name": "python3"
  },
  "language_info": {
   "codemirror_mode": {
    "name": "ipython",
    "version": 3
   },
   "file_extension": ".py",
   "mimetype": "text/x-python",
   "name": "python",
   "nbconvert_exporter": "python",
   "pygments_lexer": "ipython3",
   "version": "3.11.7"
  }
 },
 "nbformat": 4,
 "nbformat_minor": 2
}
