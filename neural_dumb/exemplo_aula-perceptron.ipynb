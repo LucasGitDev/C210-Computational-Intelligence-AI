{
 "cells": [
  {
   "cell_type": "code",
   "execution_count": 71,
   "metadata": {},
   "outputs": [],
   "source": [
    "import numpy as np"
   ]
  },
  {
   "cell_type": "code",
   "execution_count": 72,
   "metadata": {},
   "outputs": [],
   "source": [
    "# amostras = np.array([\n",
    "#     np.array([-1, 2, 3.5]), \n",
    "#     np.array([-1, 6.8, 5.3]), \n",
    "#     np.array([-1, 2, 2.5]),\n",
    "#     np.array([-1, 8.1, 4.2]),\n",
    "# ])\n",
    "\n",
    "# saidas_desejadas = np.array([-1, 1, -1, 1])\n",
    "\n",
    "# amostras = np.array([\n",
    "#     np.array([-1, -1, -1]), \n",
    "#     np.array([-1, -1, 1]), \n",
    "#     np.array([-1, 1, -1]),\n",
    "#     np.array([-1, 1, 1]),\n",
    "# ])\n",
    "\n",
    "# saidas_desejadas = np.array([-1, 1, 1, 1])\n",
    "\n",
    "\n",
    "bias = 1\n",
    "bias_weight = 0.7\n",
    "\n",
    "amostras = np.array([\n",
    "    np.array([bias, 0.2, -4]),\n",
    "    np.array([bias, -1.1, 2]),\n",
    "    np.array([bias, 2, 0.8]),\n",
    "    np.array([bias, -1, 1.2]),\n",
    "])\n",
    "saidas_desejadas = np.array([0, 1, 0, 1])\n"
   ]
  },
  {
   "cell_type": "code",
   "execution_count": 73,
   "metadata": {},
   "outputs": [
    {
     "name": "stdout",
     "output_type": "stream",
     "text": [
      "Pesos iniciais: [ 0.6  -0.5   0.12]\n"
     ]
    }
   ],
   "source": [
    "# w = np.random.rand(len(amostras[0])) * 0.1 # pesos iniciais aleatórios pequenos\n",
    "\n",
    "# w = np.array([bias_weight, -0.3, 0.2])\n",
    "\n",
    "w = np.array([ 0.6 , -0.5,   0.12])\n",
    "\n",
    "print(f\"Pesos iniciais: {w}\")"
   ]
  },
  {
   "cell_type": "code",
   "execution_count": 74,
   "metadata": {},
   "outputs": [],
   "source": [
    "# Taxa de aprendizado\n",
    "eta = 0.1\n",
    "\n",
    "# Número máximo de épocas\n",
    "max_epocas = 10"
   ]
  },
  {
   "cell_type": "code",
   "execution_count": 75,
   "metadata": {},
   "outputs": [],
   "source": [
    "pares_treinamento = list(zip(amostras, saidas_desejadas))\n",
    "\n",
    "epocas = 1"
   ]
  },
  {
   "cell_type": "code",
   "execution_count": 76,
   "metadata": {},
   "outputs": [],
   "source": [
    "def function_phi(v):\n",
    "    # 0 se v < 0, 1 se v >= 0\n",
    "    return 1 if v >= 0 else 0"
   ]
  },
  {
   "cell_type": "code",
   "execution_count": 77,
   "metadata": {},
   "outputs": [
    {
     "name": "stdout",
     "output_type": "stream",
     "text": [
      "----------\n",
      "Época: 1\n",
      "Amostra: [ 1.   0.2 -4. ] - Saída desejada: 0\n",
      "[ 1.   0.2 -4. ] * [ 0.6  -0.5   0.12] = 0.020000000000000018\n",
      "Saída: 1 é igual a 0? Não é igual! Vamos corrigir...\n",
      "Pesos atualizados: [ 0.5  -0.52  0.52]\n",
      "Amostra: [ 1.  -1.1  2. ] - Saída desejada: 1\n",
      "[ 1.  -1.1  2. ] * [ 0.5  -0.52  0.52] = 2.112\n",
      "Saída: 1 é igual a 1? Sim\n",
      "Amostra: [1.  2.  0.8] - Saída desejada: 0\n",
      "[1.  2.  0.8] * [ 0.5  -0.52  0.52] = -0.124\n",
      "Saída: 0 é igual a 0? Sim\n",
      "Amostra: [ 1.  -1.   1.2] - Saída desejada: 1\n",
      "[ 1.  -1.   1.2] * [ 0.5  -0.52  0.52] = 1.6440000000000001\n",
      "Saída: 1 é igual a 1? Sim\n",
      "----------\n",
      "Época: 2\n",
      "Amostra: [ 1.   0.2 -4. ] - Saída desejada: 0\n",
      "[ 1.   0.2 -4. ] * [ 0.5  -0.52  0.52] = -1.6840000000000002\n",
      "Saída: 0 é igual a 0? Sim\n",
      "Amostra: [ 1.  -1.1  2. ] - Saída desejada: 1\n",
      "[ 1.  -1.1  2. ] * [ 0.5  -0.52  0.52] = 2.112\n",
      "Saída: 1 é igual a 1? Sim\n",
      "Amostra: [1.  2.  0.8] - Saída desejada: 0\n",
      "[1.  2.  0.8] * [ 0.5  -0.52  0.52] = -0.124\n",
      "Saída: 0 é igual a 0? Sim\n",
      "Amostra: [ 1.  -1.   1.2] - Saída desejada: 1\n",
      "[ 1.  -1.   1.2] * [ 0.5  -0.52  0.52] = 1.6440000000000001\n",
      "Saída: 1 é igual a 1? Sim\n",
      "Pesos finais: [ 0.5  -0.52  0.52]\n",
      "Número de épocas: 2\n"
     ]
    }
   ],
   "source": [
    "while epocas <= max_epocas:\n",
    "    print(\"-\"*10)\n",
    "    print(f\"Época: {epocas}\")\n",
    "    erro = False\n",
    "    for par in pares_treinamento:\n",
    "        x, d = par\n",
    "        print(f\"Amostra: {x} - Saída desejada: {d}\")\n",
    "        # print de x*w por extenso\n",
    "        v = np.dot(x, w) # x0 * w0 + x1 * w1 + x2 * w2\n",
    "        print(f\"{x} * {w} = {v}\")\n",
    "        y = function_phi(v)\n",
    "        print(f\"Saída: {y} é igual a {d}? {'Sim' if y == d else 'Não é igual! Vamos corrigir...'}\")\n",
    "        if y != d:\n",
    "            erro = True\n",
    "            delta_w = eta * (d - y) * x\n",
    "            w = w + delta_w\n",
    "            print(f\"Pesos atualizados: {w}\")\n",
    "    if not erro:\n",
    "        break\n",
    "    epocas += 1\n",
    "\n",
    "print(f\"Pesos finais: {w}\")\n",
    "print(f\"Número de épocas: {epocas}\")"
   ]
  },
  {
   "cell_type": "code",
   "execution_count": null,
   "metadata": {},
   "outputs": [],
   "source": []
  }
 ],
 "metadata": {
  "kernelspec": {
   "display_name": "C210-02heVGrD",
   "language": "python",
   "name": "python3"
  },
  "language_info": {
   "codemirror_mode": {
    "name": "ipython",
    "version": 3
   },
   "file_extension": ".py",
   "mimetype": "text/x-python",
   "name": "python",
   "nbconvert_exporter": "python",
   "pygments_lexer": "ipython3",
   "version": "3.11.7"
  }
 },
 "nbformat": 4,
 "nbformat_minor": 2
}
