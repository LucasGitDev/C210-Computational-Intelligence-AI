{
 "cells": [
  {
   "cell_type": "markdown",
   "metadata": {},
   "source": [
    "### Calculadora Simples:\n",
    "Crie uma calculadora que possa realizar operações básicas como adição, subtração, multiplicação e divisão. Permita que o usuário escolha a operação desejada e forneça os números para realizar o cálculo."
   ]
  },
  {
   "cell_type": "code",
   "execution_count": null,
   "metadata": {},
   "outputs": [],
   "source": [
    "def input_number():\n",
    "    while True:\n",
    "        try:\n",
    "            num = int(input(\"Enter a number: \"))\n",
    "            return num\n",
    "        except ValueError:\n",
    "            print(\"Invalid input. Please enter a number.\")\n",
    "            continue\n",
    "        \n",
    "def input_operation():\n",
    "    while True:\n",
    "        operation = input(\"Select an operation: \")\n",
    "        if operation in [\"+\", \"-\", \"*\", \"/\"]:\n",
    "            return operation\n",
    "        elif operation == \".\":\n",
    "            exit()\n",
    "        else:\n",
    "            print(\"Invalid input. Please enter a valid operation.\")\n",
    "            continue\n",
    "\n",
    "def execute_operation(num1, num2, operation):\n",
    "    return eval(f\"num1 {operation} num2\")\n",
    "\n",
    "while 1:\n",
    "    print(\"What would you like to do:\")\n",
    "    print(\"+ Addition\")\n",
    "    print(\"- Subtraction\")\n",
    "    print(\"*  Multiplication\")\n",
    "    print(\"/ Division\")\n",
    "    print(\". Exit\")\n",
    "   \n",
    "    num1 = input_number()\n",
    "    operation = input_operation()\n",
    "    num2 = input_number()\n",
    "    result = execute_operation(num1, num2, operation)\n",
    "    print(f\"Result: {result}\")\n",
    "    print()"
   ]
  },
  {
   "cell_type": "markdown",
   "metadata": {},
   "source": [
    "### Verificador de Números Primos:\n",
    "Escreva uma função que verifica se um número fornecido pelo usuário é primo ou não.\n"
   ]
  },
  {
   "cell_type": "code",
   "execution_count": null,
   "metadata": {},
   "outputs": [],
   "source": [
    "def is_prime(num):\n",
    "    if num < 2:\n",
    "        return False\n",
    "    for i in range(2, num):\n",
    "        if num % i == 0:\n",
    "            return False\n",
    "    return True\n",
    "\n",
    "while True:\n",
    "    num = input_number()\n",
    "    if is_prime(num):\n",
    "        print(f\"{num} is a prime number.\")\n",
    "    else:\n",
    "        print(f\"{num} is not a prime number.\")\n",
    "    print()"
   ]
  },
  {
   "cell_type": "markdown",
   "metadata": {},
   "source": [
    "### Conversor de Temperatura:\n",
    "Crie um programa que converte uma temperatura de Celsius para Fahrenheit e vice-versa, com base na escolha do usuário.\n"
   ]
  },
  {
   "cell_type": "code",
   "execution_count": null,
   "metadata": {},
   "outputs": [],
   "source": [
    "def from_celsius_to_fahrenheit(celsius):\n",
    "    return celsius * 9/5 + 32\n",
    "\n",
    "def from_fahrenheit_to_celsius(fahrenheit):\n",
    "    return (fahrenheit - 32) * 5/9\n",
    "\n",
    "while True:\n",
    "    print(\"What would you like to do:\")\n",
    "    print(\"1. Convert from Celsius to Fahrenheit\")\n",
    "    print(\"2. Convert from Fahrenheit to Celsius\")\n",
    "    print(\". Exit\")\n",
    "    \n",
    "    choice = input(\"Select an option: \")\n",
    "    if choice == \"1\":\n",
    "        celsius = input_number()\n",
    "        fahrenheit = from_celsius_to_fahrenheit(celsius)\n",
    "        print(f\"{celsius}°C is equal to {fahrenheit}°F.\")\n",
    "    elif choice == \"2\":\n",
    "        fahrenheit = input_number()\n",
    "        celsius = from_fahrenheit_to_celsius(fahrenheit)\n",
    "        print(f\"{fahrenheit}°F is equal to {celsius}°C.\")\n",
    "    elif choice == \".\":\n",
    "        exit()\n",
    "    else:\n",
    "        print(\"Invalid input. Please enter a valid option.\")\n",
    "    print()"
   ]
  },
  {
   "cell_type": "markdown",
   "metadata": {},
   "source": [
    "### Contador de Palavras:\n",
    "Crie uma função que conta o número de palavras em uma frase fornecida pelo usuário.\n"
   ]
  },
  {
   "cell_type": "code",
   "execution_count": null,
   "metadata": {},
   "outputs": [],
   "source": [
    "def count_words(sentence):\n",
    "    return len(sentence.split())\n",
    "\n",
    "while True:\n",
    "    sentence = input(\"Enter a sentence: \")\n",
    "    words = count_words(sentence)\n",
    "    print(f\"The sentence has {words} words.\")\n",
    "    print()"
   ]
  },
  {
   "cell_type": "markdown",
   "metadata": {},
   "source": [
    "### Tabuada:\n",
    "Escreva um programa que exibe a tabuada de um número fornecido pelo usuário."
   ]
  },
  {
   "cell_type": "code",
   "execution_count": null,
   "metadata": {},
   "outputs": [],
   "source": [
    "def make_multiplication_table(num):\n",
    "    for i in range(1, 11):\n",
    "        print(f\"{num} x {i} = {num * i}\")\n",
    "\n",
    "while True:\n",
    "    num = input_number()\n",
    "    make_multiplication_table(num)\n",
    "    print()\n",
    "    "
   ]
  },
  {
   "cell_type": "markdown",
   "metadata": {},
   "source": [
    "### Renomeador de Títulos:\n",
    "Escreva um programa que recebe uma array com nomes de colunas em uma tabela, arrume os nomes das colunas para que todas as palavras tenham a primeira letra maiúscula e substitua espaços por underlines(_).\n"
   ]
  },
  {
   "cell_type": "markdown",
   "metadata": {},
   "source": [
    "column_names = [\"account balance\", \"LoaN duration\", \"CREDIT History\", \n",
    "    \"loan_Purpose\", \"LOAN_Amount\", \"Savings\", \"Years_Employed\", \n",
    "    \"Installment_Rate\", \"Gender and Status\", \"OtheR Debtors_Guarantors\",\n",
    "    \"Year_of_Residence\", \"ProperTy\", \"AGe\", \"InstaLlment Plans\", \"HouSing\", \"ExistiNg_credits\", \"Job\", \"Dependents\", \n",
    "    \"Telephone\", \"Foreign\", \n",
    "    \"Credit_rating\"]"
   ]
  },
  {
   "cell_type": "code",
   "execution_count": 3,
   "metadata": {},
   "outputs": [
    {
     "name": "stdout",
     "output_type": "stream",
     "text": [
      "['Account_Balance', 'Loan_Duration', 'Credit_History', 'Loan_Purpose', 'Loan_Amount', 'Savings', 'Years_Employed', 'Installment_Rate', 'Gender_And_Status', 'Other_Debtors_Guarantors', 'Year_Of_Residence', 'Property', 'Age', 'Installment_Plans', 'Housing', 'Existing_Credits', 'Job', 'Dependents', 'Telephone', 'Foreign', 'Credit_Rating']\n"
     ]
    }
   ],
   "source": [
    "# Escreva um programa que recebe uma array com nomes de colunas em uma tabela, arrume os nomes das colunas para que todas as palavras tenham a primeira letra maiúscula e substitua espaços por underlines(_).\n",
    "def format_columns(columns):\n",
    "    return [column.title().replace(\" \", \"_\") for column in columns]\n",
    "\n",
    "\n",
    "column_names = [\"account balance\", \"LoaN duration\", \"CREDIT History\",\n",
    "                \"loan_Purpose\", \"LOAN_Amount\", \"Savings\", \"Years_Employed\",\n",
    "                \"Installment_Rate\", \"Gender and Status\", \"OtheR Debtors_Guarantors\",\n",
    "                \"Year_of_Residence\", \"ProperTy\", \"AGe\", \"InstaLlment Plans\", \"HouSing\", \"ExistiNg_credits\", \"Job\", \"Dependents\",\n",
    "                \"Telephone\", \"Foreign\",\n",
    "                \"Credit_rating\"]\n",
    "\n",
    "formatted_columns = format_columns(column_names)\n",
    "print(formatted_columns)"
   ]
  }
 ],
 "metadata": {
  "kernelspec": {
   "display_name": "Python 3",
   "language": "python",
   "name": "python3"
  },
  "language_info": {
   "codemirror_mode": {
    "name": "ipython",
    "version": 3
   },
   "file_extension": ".py",
   "mimetype": "text/x-python",
   "name": "python",
   "nbconvert_exporter": "python",
   "pygments_lexer": "ipython3",
   "version": "3.11.7"
  }
 },
 "nbformat": 4,
 "nbformat_minor": 2
}
